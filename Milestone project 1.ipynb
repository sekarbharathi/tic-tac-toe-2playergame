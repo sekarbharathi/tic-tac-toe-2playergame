{
 "cells": [
  {
   "cell_type": "code",
   "execution_count": 1,
   "id": "b276c94e-0609-443a-b6f7-e36b9d3c459c",
   "metadata": {},
   "outputs": [],
   "source": [
    "#Visual representation - Display information"
   ]
  },
  {
   "cell_type": "code",
   "execution_count": 5,
   "id": "c4ce8d63-da14-4a3f-ae58-2a4a288fa95e",
   "metadata": {},
   "outputs": [],
   "source": [
    "from IPython.display import clear_output"
   ]
  },
  {
   "cell_type": "code",
   "execution_count": 6,
   "id": "3bc1942f-0c9b-4f73-9c0e-77ec00dc27ae",
   "metadata": {},
   "outputs": [],
   "source": [
    "def display_board(board):\n",
    "    clear_output()  # Remember, this only works in jupyter!\n",
    "    print( board[7] + ' | ' + board[8] + ' | ' + board[9])\n",
    "    print( board[4] + ' | ' + board[5] + ' | ' + board[6])\n",
    "    print( board[1] + ' | ' + board[2] + ' | ' + board[3])\n"
   ]
  },
  {
   "cell_type": "code",
   "execution_count": 7,
   "id": "f27aa432-1c16-4b73-bc1c-f00c3d69de24",
   "metadata": {},
   "outputs": [
    {
     "name": "stdout",
     "output_type": "stream",
     "text": [
      "  |   |  \n",
      "  |   |  \n",
      "  |   |  \n"
     ]
    }
   ],
   "source": [
    "test_board = [' ']*10\n",
    "display_board(test_board)"
   ]
  },
  {
   "cell_type": "code",
   "execution_count": 8,
   "id": "73750282-009f-4696-b589-25ae40f7af35",
   "metadata": {},
   "outputs": [],
   "source": [
    "def player_input():\n",
    "    marker=''\n",
    "    while marker != 'X' and marker !='O':\n",
    "        marker = input(\"Player 1, Choose X or O: \").upper()\n",
    "        print(\"Choose X or O!\")\n",
    "    if marker == 'X':\n",
    "        return ('X','O')\n",
    "    else:\n",
    "        return('O' , 'X')\n",
    "    "
   ]
  },
  {
   "cell_type": "code",
   "execution_count": 5,
   "id": "988dcd13-0fd6-4288-ad93-9776b9360b2b",
   "metadata": {},
   "outputs": [
    {
     "name": "stdin",
     "output_type": "stream",
     "text": [
      "Player 1, Choose X or O:  x\n"
     ]
    },
    {
     "name": "stdout",
     "output_type": "stream",
     "text": [
      "Choose X or O!\n"
     ]
    },
    {
     "data": {
      "text/plain": [
       "('X', 'O')"
      ]
     },
     "execution_count": 5,
     "metadata": {},
     "output_type": "execute_result"
    }
   ],
   "source": [
    "player_input()"
   ]
  },
  {
   "cell_type": "code",
   "execution_count": 10,
   "id": "b6dad385-6d57-4845-927a-a21cc5900d5b",
   "metadata": {},
   "outputs": [
    {
     "name": "stdin",
     "output_type": "stream",
     "text": [
      "Player 1, Choose X or O:  x\n"
     ]
    },
    {
     "name": "stdout",
     "output_type": "stream",
     "text": [
      "Choose X or O!\n"
     ]
    }
   ],
   "source": [
    "player1 , player2 = player_input()"
   ]
  },
  {
   "cell_type": "code",
   "execution_count": 11,
   "id": "d7b9685d-d8aa-45ec-8061-3de7e5c3ee2b",
   "metadata": {},
   "outputs": [
    {
     "data": {
      "text/plain": [
       "'O'"
      ]
     },
     "execution_count": 11,
     "metadata": {},
     "output_type": "execute_result"
    }
   ],
   "source": [
    "player2"
   ]
  },
  {
   "cell_type": "code",
   "execution_count": 11,
   "id": "162b1575-12e1-4672-8812-f371d20dd884",
   "metadata": {},
   "outputs": [],
   "source": [
    "def place_marker(board,marker,position):\n",
    "     board[position] = marker"
   ]
  },
  {
   "cell_type": "code",
   "execution_count": 12,
   "id": "5852f2ec-90c0-48c5-b3c5-0016abe503f9",
   "metadata": {},
   "outputs": [],
   "source": [
    "place_marker(test_board , '$' , 2 )"
   ]
  },
  {
   "cell_type": "code",
   "execution_count": 13,
   "id": "6d032004-9d72-46dc-8733-69983289e7f0",
   "metadata": {},
   "outputs": [
    {
     "name": "stdout",
     "output_type": "stream",
     "text": [
      "  |   |  \n",
      "  |   |  \n",
      "  | $ |  \n"
     ]
    }
   ],
   "source": [
    "display_board(test_board)"
   ]
  },
  {
   "cell_type": "code",
   "execution_count": 14,
   "id": "7a15e4a0-ab24-44ba-b820-db4403d4d914",
   "metadata": {},
   "outputs": [],
   "source": [
    "def win_check(board,mark):\n",
    "    return ((board[7] == mark and board[8] == mark and board[9] == mark) or # across the top\n",
    "    (board[4] == mark and board[5] == mark and board[6] == mark) or # across the middle\n",
    "    (board[1] == mark and board[2] == mark and board[3] == mark) or # across the bottom\n",
    "    (board[7] == mark and board[4] == mark and board[1] == mark) or # down the middle\n",
    "    (board[8] == mark and board[5] == mark and board[2] == mark) or # down the middle\n",
    "    (board[9] == mark and board[6] == mark and board[3] == mark) or # down the right side\n",
    "    (board[7] == mark and board[5] == mark and board[3] == mark) or # diagonal\n",
    "    (board[9] == mark and board[5] == mark and board[1] == mark)) # diagonal"
   ]
  },
  {
   "cell_type": "code",
   "execution_count": 15,
   "id": "ab21f526-eb8f-4af2-b667-1148b3655cd4",
   "metadata": {},
   "outputs": [
    {
     "data": {
      "text/plain": [
       "False"
      ]
     },
     "execution_count": 15,
     "metadata": {},
     "output_type": "execute_result"
    }
   ],
   "source": [
    "win_check(test_board,'X')"
   ]
  },
  {
   "cell_type": "code",
   "execution_count": 16,
   "id": "ac3a684c-ae15-4975-bf40-cf5b23ca2855",
   "metadata": {},
   "outputs": [
    {
     "data": {
      "text/plain": [
       "False"
      ]
     },
     "execution_count": 16,
     "metadata": {},
     "output_type": "execute_result"
    }
   ],
   "source": [
    "win_check(test_board,'O')"
   ]
  },
  {
   "cell_type": "code",
   "execution_count": 17,
   "id": "e5fc175d-67fc-4cd5-a42d-8898f9ac0f5d",
   "metadata": {},
   "outputs": [],
   "source": [
    "import random\n",
    "\n",
    "def choose_first():\n",
    "    if random.randint(0, 1) == 0:\n",
    "        return 'Player 2'\n",
    "    else:\n",
    "        return 'Player 1'"
   ]
  },
  {
   "cell_type": "code",
   "execution_count": 18,
   "id": "01086c9b-6f14-4912-8483-2d723b5ed816",
   "metadata": {},
   "outputs": [
    {
     "data": {
      "text/plain": [
       "'Player 2'"
      ]
     },
     "execution_count": 18,
     "metadata": {},
     "output_type": "execute_result"
    }
   ],
   "source": [
    "choose_first()"
   ]
  },
  {
   "cell_type": "code",
   "execution_count": 19,
   "id": "4d9791c0-4ffc-45e1-8f17-9060e0b238e1",
   "metadata": {},
   "outputs": [],
   "source": [
    "def space_check(board,position):\n",
    "    return board[position] == ' '"
   ]
  },
  {
   "cell_type": "code",
   "execution_count": 20,
   "id": "f59e3e2c-f160-4ad9-82e9-486cb481dae3",
   "metadata": {},
   "outputs": [
    {
     "data": {
      "text/plain": [
       "False"
      ]
     },
     "execution_count": 20,
     "metadata": {},
     "output_type": "execute_result"
    }
   ],
   "source": [
    "space_check(test_board,2)"
   ]
  },
  {
   "cell_type": "code",
   "execution_count": 21,
   "id": "ca80f80d-1522-4022-976e-ce59e6af8722",
   "metadata": {},
   "outputs": [],
   "source": [
    "def full_board_check(board):\n",
    "    for i in range(1,10):\n",
    "        if space_check(board,i):\n",
    "            return False\n",
    "    return True #returns true if board is full\n",
    "            "
   ]
  },
  {
   "cell_type": "code",
   "execution_count": 22,
   "id": "6e1dd6e2-d66c-4e33-b05d-0267a8a10181",
   "metadata": {},
   "outputs": [
    {
     "data": {
      "text/plain": [
       "False"
      ]
     },
     "execution_count": 22,
     "metadata": {},
     "output_type": "execute_result"
    }
   ],
   "source": [
    "full_board_check(test_board)"
   ]
  },
  {
   "cell_type": "code",
   "execution_count": 23,
   "id": "9dbe853b-6cb4-4bb2-b7dc-8268f506519e",
   "metadata": {},
   "outputs": [],
   "source": [
    "def player_choice(board):\n",
    "    position=0\n",
    "    while position not in [1,2,3,4,5,6,7,8,9] or not space_check(board,position):\n",
    "        position=int(input(\"Enter your next position (1-9): \"))\n",
    "    return position"
   ]
  },
  {
   "cell_type": "code",
   "execution_count": 24,
   "id": "4c7b2ced-db7d-48ef-8471-7290d556c959",
   "metadata": {},
   "outputs": [],
   "source": [
    "def replay():\n",
    "    \n",
    "    return input('Do you want to play again? Enter Yes or No: ').lower()"
   ]
  },
  {
   "cell_type": "code",
   "execution_count": 25,
   "id": "5ecf1145-35a8-483d-942d-4a08d9463a9b",
   "metadata": {},
   "outputs": [],
   "source": [
    "#FuLL Script"
   ]
  },
  {
   "cell_type": "code",
   "execution_count": 26,
   "id": "ad16b810-4f67-42c1-a059-a064f18deb14",
   "metadata": {},
   "outputs": [
    {
     "name": "stdout",
     "output_type": "stream",
     "text": [
      "X |   | O\n",
      "  | X | O\n",
      "X | O | X\n",
      "Player 1 has won\n"
     ]
    },
    {
     "name": "stdin",
     "output_type": "stream",
     "text": [
      "Do you want to play again? Enter Yes or No:  no\n"
     ]
    }
   ],
   "source": [
    "#While loop to keep playing the game\n",
    "\n",
    "print(\"Welcome to Tic Tac Toe Game\")\n",
    "\n",
    "while True: # board , which player first , choose marker \n",
    "\n",
    "    gameboard = [' ']*10\n",
    "    player1_marker , player2_marker =  player_input()\n",
    "    turn = choose_first()\n",
    "    print( turn + \" will go first\")\n",
    "\n",
    "    #to begin the game\n",
    "\n",
    "    play_game = input('Are you ready to play? Enter Yes or No.')\n",
    "    \n",
    "    if play_game.lower()[0] == 'y':\n",
    "        game_on = True\n",
    "    else:\n",
    "        game_on = False\n",
    "\n",
    "    #Game Play\n",
    "    \n",
    "    while game_on:\n",
    "        #player 1 turn\n",
    "        \n",
    "        if turn == 'Player 1' :\n",
    "            #show board\n",
    "            display_board(gameboard)\n",
    "            \n",
    "            #choose position\n",
    "            position = player_choice(gameboard)\n",
    "\n",
    "            #place the marker on the position\n",
    "            place_marker(gameboard, player1_marker ,position)\n",
    "            \n",
    "            #check if player 1 won\n",
    "            if win_check(gameboard, player1_marker):\n",
    "                display_board(gameboard)\n",
    "                print(\"Player 1 has won\")\n",
    "                game_on= False\n",
    "\n",
    "            #check if tie\n",
    "            else:\n",
    "                if full_board_check(gameboard):\n",
    "                    display_board(gameboard)\n",
    "                    print(\"Tie Tie\")\n",
    "                    game_on = False\n",
    "                else:\n",
    "                    turn = 'Player 2'\n",
    "                    \n",
    "   \n",
    "\n",
    "        #player 2 turn\n",
    "        else:\n",
    "\n",
    "            display_board(gameboard)\n",
    "            \n",
    "            position = player_choice(gameboard)\n",
    "            \n",
    "            place_marker(gameboard, player2_marker ,position)\n",
    "            \n",
    "            #check if player 2 won\n",
    "            if win_check(gameboard, player1_marker):\n",
    "                display_board(gameboard)\n",
    "                print(\"Player 2 has won\")\n",
    "                game_on= False\n",
    "\n",
    "            #check if tie\n",
    "            else:\n",
    "                if full_board_check(gameboard):\n",
    "                    display_board(gameboard)\n",
    "                    print(\"Tie Tie\")\n",
    "                    game_on = False\n",
    "                else:\n",
    "                    turn = 'Player 1'\n",
    "    if not replay(): #break out the while loop on replay()\n",
    "        break"
   ]
  },
  {
   "cell_type": "code",
   "execution_count": null,
   "id": "5845ac27-00fc-4f99-b463-e2b87cf37f25",
   "metadata": {},
   "outputs": [],
   "source": []
  }
 ],
 "metadata": {
  "kernelspec": {
   "display_name": "Python 3 (ipykernel)",
   "language": "python",
   "name": "python3"
  },
  "language_info": {
   "codemirror_mode": {
    "name": "ipython",
    "version": 3
   },
   "file_extension": ".py",
   "mimetype": "text/x-python",
   "name": "python",
   "nbconvert_exporter": "python",
   "pygments_lexer": "ipython3",
   "version": "3.11.7"
  }
 },
 "nbformat": 4,
 "nbformat_minor": 5
}
